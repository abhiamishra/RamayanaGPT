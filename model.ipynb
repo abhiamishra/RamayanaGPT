{
 "cells": [
  {
   "cell_type": "code",
   "execution_count": 6,
   "metadata": {},
   "outputs": [],
   "source": [
    "# Loading the text\n",
    "with open(\"data.txt\", \"r\", encoding=\"utf-8\") as f:\n",
    "    data = f.read()"
   ]
  },
  {
   "cell_type": "code",
   "execution_count": 78,
   "metadata": {},
   "outputs": [
    {
     "data": {
      "text/plain": [
       "True"
      ]
     },
     "execution_count": 78,
     "metadata": {},
     "output_type": "execute_result"
    }
   ],
   "source": [
    "from dotenv import load_dotenv\n",
    "import os\n",
    "\n",
    "# Load variables from .env file\n",
    "load_dotenv()"
   ]
  },
  {
   "cell_type": "code",
   "execution_count": 49,
   "metadata": {},
   "outputs": [],
   "source": [
    "from langchain.document_loaders import UnstructuredPDFLoader, OnlinePDFLoader, PyPDFLoader\n",
    "from langchain.text_splitter import RecursiveCharacterTextSplitter\n",
    "import os"
   ]
  },
  {
   "cell_type": "code",
   "execution_count": 50,
   "metadata": {},
   "outputs": [],
   "source": [
    "loader = PyPDFLoader(\"./ramayana.pdf\")\n",
    "data = loader.load()"
   ]
  },
  {
   "cell_type": "code",
   "execution_count": 51,
   "metadata": {},
   "outputs": [
    {
     "name": "stdout",
     "output_type": "stream",
     "text": [
      "You have 1960 document(s) in your data\n",
      "There are 437 characters in your document\n"
     ]
    }
   ],
   "source": [
    "print (f'You have {len(data)} document(s) in your data')\n",
    "print (f'There are {len(data[0].page_content)} characters in your document')"
   ]
  },
  {
   "cell_type": "code",
   "execution_count": 52,
   "metadata": {},
   "outputs": [
    {
     "name": "stdout",
     "output_type": "stream",
     "text": [
      "You have 2003 document(s) in your data\n"
     ]
    }
   ],
   "source": [
    "text_splitter = RecursiveCharacterTextSplitter(chunk_size=2000, chunk_overlap=0)\n",
    "texts = text_splitter.split_documents(data)\n",
    "\n",
    "print (f'You have {len(texts)} document(s) in your data')"
   ]
  },
  {
   "cell_type": "code",
   "execution_count": 53,
   "metadata": {},
   "outputs": [],
   "source": [
    "from langchain.vectorstores import Chroma, Pinecone\n",
    "from langchain.embeddings.openai import OpenAIEmbeddings\n",
    "import pinecone"
   ]
  },
  {
   "cell_type": "code",
   "execution_count": 72,
   "metadata": {},
   "outputs": [],
   "source": [
    "# Check to see if there is an environment variable with you API keys, if not, use what you put below\n",
    "OPENAI_API_KEY = os.environ.get('OPENAI_API_KEY')\n",
    "\n",
    "PINECONE_API_KEY = os.environ.get('PINECONE_API_KEY')\n",
    "PINECONE_API_ENV = os.environ.get('PINECONE_API_ENV')"
   ]
  },
  {
   "cell_type": "code",
   "execution_count": 55,
   "metadata": {},
   "outputs": [],
   "source": [
    "embeddings = OpenAIEmbeddings(openai_api_key=OPENAI_API_KEY)"
   ]
  },
  {
   "cell_type": "code",
   "execution_count": 98,
   "metadata": {},
   "outputs": [
    {
     "name": "stdout",
     "output_type": "stream",
     "text": [
      "text-embedding-ada-002\n"
     ]
    }
   ],
   "source": [
    "print(embeddings.model)"
   ]
  },
  {
   "cell_type": "code",
   "execution_count": 88,
   "metadata": {},
   "outputs": [],
   "source": [
    "# initialize pinecone\n",
    "pinecone.init(\n",
    "    api_key=os.getenv(\"PINECONE_API_KEY\"), # find at app.pinecone.io.\n",
    "    environment=os.getenv(\"PINECONE_API_ENV\")\n",
    ")\n",
    "index_name = \"ramayana\" # put in the name of your pinecone index here"
   ]
  },
  {
   "cell_type": "code",
   "execution_count": 89,
   "metadata": {},
   "outputs": [],
   "source": [
    "for t in texts:\n",
    "    if not isinstance(t.page_content, (str, bytes)):\n",
    "        raise TypeError(f't.page_content should be a string or bytes-like object, but got {type(t.page_content)}')"
   ]
  },
  {
   "cell_type": "code",
   "execution_count": 92,
   "metadata": {},
   "outputs": [
    {
     "name": "stdout",
     "output_type": "stream",
     "text": [
      "hi!\n"
     ]
    }
   ],
   "source": [
    "if index_name in pinecone.list_indexes():\n",
    "    print(\"hi!\")\n",
    "    docsearch = Pinecone.from_texts([t.page_content for t in texts], embeddings, index_name=index_name)"
   ]
  },
  {
   "cell_type": "code",
   "execution_count": 93,
   "metadata": {},
   "outputs": [],
   "source": [
    "query = \"What is the role of Hanuman in the Ramayana?\"\n",
    "docs = docsearch.similarity_search(query)"
   ]
  },
  {
   "cell_type": "code",
   "execution_count": 99,
   "metadata": {},
   "outputs": [
    {
     "data": {
      "text/plain": [
       "[Document(page_content='1860 The Ramayana\\nthe moon to the sun, the evening to the morning sun, the sun of\\nwinter to that of spring; the young son betrays and overthrows\\nthe old one. …Râmas, who treacherously kills the old king of\\nthe monkeys, Bâlin, is the equivalent of Vish Gus, who hurls his\\npredecessor Indras from his throne; and Sugrívas, the new king\\nof the monkeys resembles Indras when he promises to find the\\nravished Sítá, in the same way as Vish Gus in one of his incarna-\\ntionsfindsagainthelostvedás.Andthereareotherindicationsin\\nthe Râmâya Gam of opposition between Indras and the monkeys\\nwho assist Râmas. The great monkey Hanumant, of the reddish\\ncolourofgold,hashisjawbroken,Indrashavingstruckhimwith\\nhisthunderboltandcausedhimtofalluponamountain,because,\\nwhile yet a child, he threw himself off a mountain into the air in\\norder to arrest the course of the sun, whose rays had no effect\\nupon him. (The cloud rises from the mountain and hides the\\nsun, which is unable of itself to disperse it; the tempest comes,\\nand brings flashes of lightning and thunder-bolts, which tear the\\ncloud in pieces.)\\nThe whole legend of the monkey Hanumant represents the\\nsun entering into the cloud or darkness, and coming out of it.\\nHis father is said to be now the wind, now the elephant of the\\nmonkeys (Kapikunjaras), now Ke [arin, the long-haired sun, the\\nsun with a mane, the lion sun (whence his name of Ke[ariGah\\nputrah). From this point of view, Hanumant would seem to be\\nthe brother of Sugrívas, who is also the offspring of the sun. …\\nAll the epic monkeys of the Râmâya Gamare described in\\nthe twentieth canto of the first book by expressions which very\\nclosely resemble those applied in the Vedic hymns to the Maru-\\ntas, as swift as the tempestuous wind, changing their shape at\\npleasure, making a noise like clouds, sounding like thunder,\\nbattling, hurling mountain-peaks, shaking great uprooted trees,\\nstirring up the deep waters, crushing the earth with their arms,', metadata={}),\n",
       " Document(page_content=\"1452 The Ramayana\\nWill soothe the faithful lady's fear. ”\\nCanto XXXI. Hanumán's Speech.\\nThen in sweet accents low and mild\\nThe Vánar spoke to Janak's child:\\n“A noble king, by sin unstained,\\nThe mighty Da [aratha reigned.\\nLord of the warrior's car and steed,\\nThe pride of old Ikshváku's seed.\\nA faithful friend, a blameless king,\\nProtector of each living thing.\\nA glorious monarch, strong to save,\\nBlest with the bliss he freely gave.\\nHis son, the best of all who know\\nThe science of the bended bow,\\nWas moon-bright Ráma, brave and strong,\\nWho loved the right and loathed the wrong,\\nWho ne'er from kingly duty swerved,\\nLoved by the lands his might preserved.\\nHis feet the path of law pursued;\\nHis arm rebellious foes subdued.\\nHis sire's command the prince obeyed\\nAnd, banished, sought the forest shade,\\nWhere with his wife and brother he\\nWandered a saintly devotee.\\nThere as he roamed the wilds he slew\\nThe bravest of the Rákshas crew.\\nThe giant king the prince beguiled,\\nAnd stole his consort, Janak's child.\\nThen Ráma roamed the country round,\", metadata={}),\n",
       " Document(page_content=\"1158 The Ramayana\\nYour quivers glow with golden sheen,\\nWell stored with arrows fleet and keen,\\nEach gleaming like a fiery snake\\nThat joys the foeman's life to take.\\nAs serpents cast their sloughs away\\nAnd all their new born sheen display,\\nSo flash your mighty swords inlaid\\nWith burning gold on hilt and blade.\\nWhy are you silent, heroes? Why\\nMy questions hear nor deign reply?\\nSugríva, lord of virtuous mind,\\nThe foremost of the Vánar kind,\\nAn exile from his royal state,\\nRoams through the land disconsolate.\\nI, Hanumán, of Vánar race,\\nSent by the king have sought this place,\\nFor he, the pious, just, and true,\\nIn friendly league would join with you.\\nKnow, godlike youths, that I am one\\nOf his chief lords, the Wind-God's son.\\nWith course unchecked I roam at will,\\nAnd now from Rishyamúka's hill,\\nTo please his heart, his hope to speed,\\nI came disguised in beggar's weed. ”\\nThus Hanúmán, well trained in lore\\nOf language, spoke, and said no more.\\nThe son of Raghu joyed to hear\\nThe envoy's speech, and bright of cheer\\nHe turned to Lakshma Gby his side,\\nAnd thus in words of transport cried:\", metadata={}),\n",
       " Document(page_content=\"1486 The Ramayana\\nTo win my way through gate and guard.\\nAnd so to gain my wish I laid\\nIn ruin that delightful shade.\\nNo fiend, no God of heavenly kind\\nWith bond or chain these limbs may bind.\\nThe Eternal Sire himself of old\\nVouchsafed the boon that makes me bold,\\nFrom Brahmá's magic shaft released884\\nI knew the captor's power had ceased,\\nThe fancied bonds I freely brooked,\\nAnd thus upon the king have looked.\\nMy way to Lanká have I won,\\nA messenger from Raghu's son. ”\\nCanto LI. Hanumán's Reply.\\n“My king Sugríva greets thee fair,\\nAnd bids me thus his rede declare.\\nSon of the God of Wind, by name\\nHanumán, to this isle I came.\\nTo set the Maithil lady free\\nI crossed the barrier of the sea.\\nI roamed in search of her and found\\nHer weeping in that lovely ground.\\nThou in the lore of duty trained,\\nWho hast by stern devotion gained\\nThis wondrous wealth and power and fame\\nShouldst fear to wrong another's dame.\\n884When Hanumán was bound with cords, Indrajít released his captive from\\nthe spell laid upon him by the magic weapon.\", metadata={})]"
      ]
     },
     "execution_count": 99,
     "metadata": {},
     "output_type": "execute_result"
    }
   ],
   "source": [
    "docs"
   ]
  },
  {
   "cell_type": "code",
   "execution_count": 95,
   "metadata": {},
   "outputs": [],
   "source": [
    "from langchain.llms import OpenAI\n",
    "from langchain.chains.question_answering import load_qa_chain\n",
    "llm = OpenAI(temperature=0, openai_api_key=os.getenv(\"OPENAI_API_KEY\"))\n",
    "chain = load_qa_chain(llm, chain_type=\"stuff\")"
   ]
  },
  {
   "cell_type": "code",
   "execution_count": 96,
   "metadata": {},
   "outputs": [
    {
     "data": {
      "text/plain": [
       "\" Hanuman is a character in the Ramayana who is the son of the Wind God and is sent by the king Sugriva to find the kidnapped Sita. He is described as having reddish gold color and is able to fly and change shape at will. He is also able to withstand the power of the sun and Indra's thunderbolt. He is a loyal friend to Rama and helps him in his quest to rescue Sita.\""
      ]
     },
     "execution_count": 96,
     "metadata": {},
     "output_type": "execute_result"
    }
   ],
   "source": [
    "chain.run(input_documents=docs, question=query)"
   ]
  }
 ],
 "metadata": {
  "kernelspec": {
   "display_name": "Python 3",
   "language": "python",
   "name": "python3"
  },
  "language_info": {
   "codemirror_mode": {
    "name": "ipython",
    "version": 3
   },
   "file_extension": ".py",
   "mimetype": "text/x-python",
   "name": "python",
   "nbconvert_exporter": "python",
   "pygments_lexer": "ipython3",
   "version": "3.10.11"
  },
  "orig_nbformat": 4
 },
 "nbformat": 4,
 "nbformat_minor": 2
}
