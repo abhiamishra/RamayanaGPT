{
 "cells": [
  {
   "cell_type": "code",
   "execution_count": 8,
   "metadata": {},
   "outputs": [
    {
     "name": "stderr",
     "output_type": "stream",
     "text": [
      "100%|██████████| 1960/1960 [00:20<00:00, 97.97it/s] \n"
     ]
    }
   ],
   "source": [
    "import PyPDF2\n",
    "from tqdm import tqdm\n",
    "\n",
    "# Open the PDF file in binary mode\n",
    "pdf_file = open('./ramayana.pdf', 'rb')\n",
    "\n",
    "# Create a PDF reader object\n",
    "pdf_reader = PyPDF2.PdfReader(pdf_file)\n",
    "\n",
    "# Get the total number of pages in the PDF file\n",
    "num_pages = len(pdf_reader.pages)\n",
    "\n",
    "# Initialize an empty string to store the text\n",
    "text = \"\"\n",
    "\n",
    "# Loop through each page in the PDF file\n",
    "for page_num in tqdm(range(num_pages)):\n",
    "    # Get the page object\n",
    "    page_obj = pdf_reader.pages[page_num]\n",
    "\n",
    "    # Extract the text from the page\n",
    "    page_text = page_obj.extract_text()\n",
    "\n",
    "    # Add the page text to the overall text string\n",
    "    text += page_text\n",
    "\n",
    "# Close the PDF file\n",
    "pdf_file.close()\n",
    "\n",
    "# Print the extracted text\n",
    "#print(text)\n"
   ]
  },
  {
   "cell_type": "code",
   "execution_count": 11,
   "metadata": {},
   "outputs": [],
   "source": [
    "with open(\"data.txt\", \"w\", encoding=\"utf-8\") as f:\n",
    "    f.write(text)"
   ]
  }
 ],
 "metadata": {
  "kernelspec": {
   "display_name": "Python 3",
   "language": "python",
   "name": "python3"
  },
  "language_info": {
   "codemirror_mode": {
    "name": "ipython",
    "version": 3
   },
   "file_extension": ".py",
   "mimetype": "text/x-python",
   "name": "python",
   "nbconvert_exporter": "python",
   "pygments_lexer": "ipython3",
   "version": "3.10.11"
  },
  "orig_nbformat": 4
 },
 "nbformat": 4,
 "nbformat_minor": 2
}
